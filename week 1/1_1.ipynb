{
 "cells": [
  {
   "cell_type": "markdown",
   "id": "ac3ffb86-8f0a-4f03-808a-466146a34c95",
   "metadata": {},
   "source": [
    "# Неделя 1. Поискс максимума"
   ]
  },
  {
   "cell_type": "markdown",
   "id": "66aa2811-2f5e-4656-915d-14a2a6df788d",
   "metadata": {},
   "source": [
    "## Попробуем написать функцию, которая находит максимум среди 10 чисел"
   ]
  },
  {
   "cell_type": "markdown",
   "id": "1ada64f0-558e-4746-9c2b-1708ad9d9829",
   "metadata": {},
   "source": [
    "### Файлы заголовков уже написаны за Вас"
   ]
  },
  {
   "cell_type": "code",
   "execution_count": 1,
   "id": "7870100a-ab9f-4601-8450-d205a9f597de",
   "metadata": {},
   "outputs": [],
   "source": [
    "#include <iostream>\n",
    "using namespace std;"
   ]
  },
  {
   "cell_type": "markdown",
   "id": "d1ff851d-fdd2-4be4-b617-c72179be8fa7",
   "metadata": {},
   "source": [
    "### Необходимо испраить данную функцию, чтобы она работала корректно"
   ]
  },
  {
   "cell_type": "code",
   "execution_count": 2,
   "id": "407065aa-df27-4370-b66e-5b8664f154c4",
   "metadata": {},
   "outputs": [],
   "source": [
    "int my_max(int *mas, int size){\n",
    "    // Ваш код должен быть здесь\n",
    "    return a;\n",
    "}"
   ]
  },
  {
   "cell_type": "markdown",
   "id": "29332aa7-5739-45ca-aa8f-d484a6a79bda",
   "metadata": {},
   "source": [
    "<p>Что такое * рядом с mas?</p>\n",
    "<p>Размер массива, максимум для которого мы будем передавать, может быть очень большим.</p>\n",
    "<p>Когда </p>"
   ]
  },
  {
   "cell_type": "code",
   "execution_count": null,
   "id": "c4428371-d9ef-426e-8113-179a7353344a",
   "metadata": {},
   "outputs": [],
   "source": []
  }
 ],
 "metadata": {
  "kernelspec": {
   "display_name": "C++11",
   "language": "C++11",
   "name": "xcpp11"
  },
  "language_info": {
   "codemirror_mode": "text/x-c++src",
   "file_extension": ".cpp",
   "mimetype": "text/x-c++src",
   "name": "c++",
   "version": "11"
  }
 },
 "nbformat": 4,
 "nbformat_minor": 5
}
