{
 "cells": [
  {
   "cell_type": "markdown",
   "id": "ac3ffb86-8f0a-4f03-808a-466146a34c95",
   "metadata": {},
   "source": [
    "# Неделя 1. Поиск максимума"
   ]
  },
  {
   "cell_type": "markdown",
   "id": "66aa2811-2f5e-4656-915d-14a2a6df788d",
   "metadata": {},
   "source": [
    "## Попробуем написать функцию, которая находит максимум среди 10 чисел"
   ]
  },
  {
   "cell_type": "markdown",
   "id": "1ada64f0-558e-4746-9c2b-1708ad9d9829",
   "metadata": {},
   "source": [
    "### Файлы заголовков уже написаны за Вас"
   ]
  },
  {
   "cell_type": "code",
   "execution_count": 1,
   "id": "7870100a-ab9f-4601-8450-d205a9f597de",
   "metadata": {},
   "outputs": [],
   "source": [
    "#include <iostream>\n",
    "using namespace std;"
   ]
  },
  {
   "cell_type": "markdown",
   "id": "d1ff851d-fdd2-4be4-b617-c72179be8fa7",
   "metadata": {},
   "source": [
    "### Необходимо испраить данную функцию, чтобы она работала корректно"
   ]
  },
  {
   "cell_type": "code",
   "execution_count": 2,
   "id": "407065aa-df27-4370-b66e-5b8664f154c4",
   "metadata": {},
   "outputs": [],
   "source": [
    "int my_max(int *mas, int size){\n",
    "    // Ваш код должен быть здесь\n",
    "    return size;\n",
    "}"
   ]
  },
  {
   "cell_type": "markdown",
   "id": "ec2a387d-037d-4e88-a6d9-819054831d55",
   "metadata": {},
   "source": [
    "### У нас даже есть пример"
   ]
  },
  {
   "cell_type": "code",
   "execution_count": 3,
   "id": "eacb307b-9523-48cc-83e6-691ece774111",
   "metadata": {},
   "outputs": [],
   "source": [
    "int mas[10] = {0, 9, 1, 8, 2, 7, 3, 6, 5};\n",
    "int size = 10;"
   ]
  },
  {
   "cell_type": "markdown",
   "id": "d07aaa18-dbe5-43fb-af9b-7f6c03478006",
   "metadata": {},
   "source": [
    "### Запустим на нём. Должно получиться 9, но пока выводится размер массива"
   ]
  },
  {
   "cell_type": "code",
   "execution_count": 4,
   "id": "9c568302-bc2f-4324-9175-d810a5d9d184",
   "metadata": {},
   "outputs": [
    {
     "name": "stdout",
     "output_type": "stream",
     "text": [
      "10"
     ]
    }
   ],
   "source": [
    "cout << my_max(mas, size);"
   ]
  },
  {
   "cell_type": "markdown",
   "id": "29332aa7-5739-45ca-aa8f-d484a6a79bda",
   "metadata": {},
   "source": [
    "<p>Что такое * рядом с mas?</p><p>Размер массива, максимум для которого мы будем передавать, может быть очень большим.</p>\n",
    "<p>Когда мы запускаем фукнкцию, то для size создается ячейка памяти, куда помещается копия значения переменной из основного тела программы </p>\n",
    "<p>Когда мы пишем *  - мы используем указатели. Указатель - адрес начала нашего массива. Зная, где начинается массив и его размер мы можем работать с ним внутри функции</p>\n",
    "<p>Важно понимать, что если мы изменим значение внутри функции, то оно изменится и вне его</p>\n",
    "<p>Так что нужно быть осторожным!</p>"
   ]
  },
  {
   "cell_type": "markdown",
   "id": "d1712e76-5957-46eb-bce5-6de6ab629877",
   "metadata": {},
   "source": [
    "### Предложим такую реализацию данного алгоритма"
   ]
  },
  {
   "cell_type": "code",
   "execution_count": 5,
   "id": "c4428371-d9ef-426e-8113-179a7353344a",
   "metadata": {},
   "outputs": [],
   "source": [
    "int my_max(int *mas, int size){\n",
    "    int max = 0;\n",
    "    for(int i=0;i<size;i++)\n",
    "        if (mas[i] > max)\n",
    "            max = mas[i];\n",
    "    return max;\n",
    "}"
   ]
  },
  {
   "cell_type": "code",
   "execution_count": 6,
   "id": "a2df4ad8-9809-4abf-ac5c-a63584a5ac02",
   "metadata": {},
   "outputs": [
    {
     "name": "stdout",
     "output_type": "stream",
     "text": [
      "9"
     ]
    }
   ],
   "source": [
    "cout << my_max(mas, size);"
   ]
  },
  {
   "cell_type": "code",
   "execution_count": null,
   "id": "7d57f966-f5f7-40f3-a379-8a9b6978e91d",
   "metadata": {},
   "outputs": [],
   "source": []
  }
 ],
 "metadata": {
  "kernelspec": {
   "display_name": "C++11",
   "language": "C++11",
   "name": "xcpp11"
  },
  "language_info": {
   "codemirror_mode": "text/x-c++src",
   "file_extension": ".cpp",
   "mimetype": "text/x-c++src",
   "name": "c++",
   "version": "11"
  }
 },
 "nbformat": 4,
 "nbformat_minor": 5
}
