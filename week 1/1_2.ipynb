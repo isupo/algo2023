{
 "cells": [
  {
   "cell_type": "markdown",
   "id": "ce971a8b-3867-4ab9-a979-df8bd8bdf1d7",
   "metadata": {},
   "source": [
    "### Рассмотритрим функцию максимума"
   ]
  },
  {
   "cell_type": "code",
   "execution_count": 1,
   "id": "62d6789b-84e3-4ee7-93ad-abd3e87ad544",
   "metadata": {},
   "outputs": [],
   "source": [
    "#include <iostream>\n",
    "using namespace std;"
   ]
  },
  {
   "cell_type": "code",
   "execution_count": 3,
   "id": "ae0fc647-d420-47f1-956a-4ddc3ca7cc4b",
   "metadata": {},
   "outputs": [],
   "source": [
    "int my_max(int *mas, int size){\n",
    "    int max = mas[0];\n",
    "    for(int i=0;i<size;i++)\n",
    "        if (mas[i] > max)\n",
    "            max = mas[i];\n",
    "    return max;\n",
    "}"
   ]
  },
  {
   "cell_type": "markdown",
   "id": "7ea316d2-deda-4cbf-8d15-294def46dc04",
   "metadata": {},
   "source": [
    "### Как мы можем понять, насколько она эффективно работает?\n",
    "<p>В наших задачах мы будем рассматривать то, сколько выполняется операций при работе алгоритма </p>\n",
    "<p>Что такое операция?</p>\n",
    "<p>max = ; - операция присваивания</p>\n",
    "<p>mas[0]; - операция взятия элемента по адресу. Мы храним элемент в памяти и нам необходимо доставить значение до вычислителя</p>\n",
    "<p>i++ - операция увеличения значения переменной на 1</p>\n",
    "<p>max[i] > max - операция сравнения</p>\n",
    "<p>Нам необходимо посчитать, сколько таких операций происходит в процессе работы алгоритма</p>"
   ]
  },
  {
   "cell_type": "code",
   "execution_count": 5,
   "id": "85f0509b-e37c-4b0c-bfa7-9f52c8c800f3",
   "metadata": {},
   "outputs": [],
   "source": [
    "int my_max(int *mas, int size){\n",
    "    int max = mas[0]; // 2 операции\n",
    "    for(int i=0;i<size;i++) // повторется size раз\n",
    "        if (mas[i] > max)   // 1 операция\n",
    "            max = mas[i];   // иногда 2я операция\n",
    "    return max;\n",
    "}"
   ]
  },
  {
   "cell_type": "markdown",
   "id": "53aaaec6-4de8-45dd-b43f-7873be150390",
   "metadata": {},
   "source": [
    "### Рассмотрим общий случай\n",
    "<p>Имеем от 2 + size * 1 до 2 + size * 2 операций</p>\n",
    "<p>Пусть size = 500; Что это значит?</p>\n",
    "<p>Потенциально мы имеем от 502 до 1002 операций. </p>\n",
    "<p>Если size = 1000 000, то имеем от 1 000 002 до 2 000 002 операций</p>\n",
    "<p>Если задуматься, то когда говорят об численности города, то говорят, что в Москве проживает 14 млн человек, а не 14 000 002</p>\n",
    "<p>Поэтому принято откидывать константу и говорить, что требуется порядка O(size) операций</p>\n",
    "<p>Коэффициент перед size так же не имеет значения. Почему? Это связано с тем, что если мы возьмем компьютер в 2 раза мощнее</p>\n",
    "<p>то наш алгоритм будет работать в 2 раза быстрее для всех size</p>"
   ]
  },
  {
   "cell_type": "code",
   "execution_count": null,
   "id": "8071c836-297e-4e1a-bcd9-e03dff82e819",
   "metadata": {},
   "outputs": [],
   "source": []
  }
 ],
 "metadata": {
  "kernelspec": {
   "display_name": "C++11",
   "language": "C++11",
   "name": "xcpp11"
  },
  "language_info": {
   "codemirror_mode": "text/x-c++src",
   "file_extension": ".cpp",
   "mimetype": "text/x-c++src",
   "name": "c++",
   "version": "11"
  }
 },
 "nbformat": 4,
 "nbformat_minor": 5
}
