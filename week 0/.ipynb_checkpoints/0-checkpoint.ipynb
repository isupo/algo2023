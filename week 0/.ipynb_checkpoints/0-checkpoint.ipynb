{
 "cells": [
  {
   "cell_type": "markdown",
   "id": "ac3ffb86-8f0a-4f03-808a-466146a34c95",
   "metadata": {},
   "source": [
    "# Неделя 0. Знакомство с системой"
   ]
  },
  {
   "cell_type": "markdown",
   "id": "66aa2811-2f5e-4656-915d-14a2a6df788d",
   "metadata": {},
   "source": [
    "## Попробуем написать функцию, которая суммирует 2 числа"
   ]
  },
  {
   "cell_type": "markdown",
   "id": "1ada64f0-558e-4746-9c2b-1708ad9d9829",
   "metadata": {},
   "source": [
    "### Файлы заголовков уже написаны за Вас"
   ]
  },
  {
   "cell_type": "code",
   "execution_count": 1,
   "id": "7870100a-ab9f-4601-8450-d205a9f597de",
   "metadata": {},
   "outputs": [],
   "source": [
    "#include <iostream>\n",
    "using namespace std;"
   ]
  },
  {
   "cell_type": "markdown",
   "id": "d1ff851d-fdd2-4be4-b617-c72179be8fa7",
   "metadata": {},
   "source": [
    "### Необходимо испраить данную функцию, чтобы она работала корректно"
   ]
  },
  {
   "cell_type": "code",
   "execution_count": 2,
   "id": "407065aa-df27-4370-b66e-5b8664f154c4",
   "metadata": {},
   "outputs": [],
   "source": [
    "int my_sum(int a, int b){\n",
    "    // Ваш код должен быть здесь\n",
    "    return a;\n",
    "}"
   ]
  },
  {
   "cell_type": "markdown",
   "id": "8e903503-db71-40d5-8eee-8a072143dfdd",
   "metadata": {},
   "source": [
    "### Мы можем запустить наш код и проверить его работоспособность "
   ]
  },
  {
   "cell_type": "code",
   "execution_count": 3,
   "id": "ea782c54-7120-4642-8a42-d298101f7577",
   "metadata": {},
   "outputs": [
    {
     "name": "stdout",
     "output_type": "stream",
     "text": [
      "1"
     ]
    }
   ],
   "source": [
    "int res = my_sum(1, 2);\n",
    "cout << res;"
   ]
  },
  {
   "cell_type": "code",
   "execution_count": 4,
   "id": "01ed6061-06f4-4bce-95c7-6ca5148e498b",
   "metadata": {},
   "outputs": [
    {
     "name": "stdout",
     "output_type": "stream",
     "text": [
      "Попробуй еще раз"
     ]
    }
   ],
   "source": [
    "if (my_sum(40, 13) == 53) cout << \"Поздравляю, Вы справились!\";   \n",
    "else cout << \"Попробуй еще раз\"; "
   ]
  },
  {
   "cell_type": "code",
   "execution_count": null,
   "id": "213f225f-a07f-4fde-ad36-95ccc79a3019",
   "metadata": {},
   "outputs": [],
   "source": []
  }
 ],
 "metadata": {
  "kernelspec": {
   "display_name": "C++11",
   "language": "C++11",
   "name": "xcpp11"
  },
  "language_info": {
   "codemirror_mode": "text/x-c++src",
   "file_extension": ".cpp",
   "mimetype": "text/x-c++src",
   "name": "c++",
   "version": "11"
  }
 },
 "nbformat": 4,
 "nbformat_minor": 5
}
